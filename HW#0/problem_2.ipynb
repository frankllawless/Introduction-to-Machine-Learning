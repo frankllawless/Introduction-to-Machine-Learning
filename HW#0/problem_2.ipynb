{
 "cells": [
  {
   "cell_type": "code",
   "execution_count": 1,
   "id": "91745aea",
   "metadata": {
    "scrolled": false
   },
   "outputs": [],
   "source": [
    "import numpy as np\n",
    "import pandas as pd\n",
    "import matplotlib.pyplot as plt"
   ]
  },
  {
   "cell_type": "code",
   "execution_count": 2,
   "id": "a5923d93",
   "metadata": {},
   "outputs": [],
   "source": [
    "def cost(x, y, theta):\n",
    "    h = x.dot(theta)\n",
    "    E = np.subtract(h, y)\n",
    "    sqrE = np.square(E)\n",
    "    J = 1/(2*m)*np.sum(sqrE)\n",
    "    \n",
    "    return J\n",
    "\n",
    "def gradient_descent(x, y, theta, alpha, iterations):\n",
    "    cost_history = np.zeros(iterations)\n",
    "    \n",
    "    for i in range(iterations):\n",
    "        h = x.dot(theta)\n",
    "        e = np.subtract(h, y)\n",
    "        sum_delta = (alpha/m)*x.transpose().dot(e);\n",
    "        theta = theta - sum_delta;\n",
    "        cost_history[i] = cost(x, y, theta)\n",
    "    \n",
    "    return theta, cost_history"
   ]
  },
  {
   "cell_type": "code",
   "execution_count": 3,
   "id": "3afb0a40",
   "metadata": {},
   "outputs": [
    {
     "data": {
      "text/html": [
       "<div>\n",
       "<style scoped>\n",
       "    .dataframe tbody tr th:only-of-type {\n",
       "        vertical-align: middle;\n",
       "    }\n",
       "\n",
       "    .dataframe tbody tr th {\n",
       "        vertical-align: top;\n",
       "    }\n",
       "\n",
       "    .dataframe thead th {\n",
       "        text-align: right;\n",
       "    }\n",
       "</style>\n",
       "<table border=\"1\" class=\"dataframe\">\n",
       "  <thead>\n",
       "    <tr style=\"text-align: right;\">\n",
       "      <th></th>\n",
       "      <th>X1</th>\n",
       "      <th>X2</th>\n",
       "      <th>X3</th>\n",
       "      <th>Y</th>\n",
       "    </tr>\n",
       "  </thead>\n",
       "  <tbody>\n",
       "    <tr>\n",
       "      <th>0</th>\n",
       "      <td>0.000000</td>\n",
       "      <td>3.440000</td>\n",
       "      <td>0.440000</td>\n",
       "      <td>4.387545</td>\n",
       "    </tr>\n",
       "    <tr>\n",
       "      <th>1</th>\n",
       "      <td>0.040404</td>\n",
       "      <td>0.134949</td>\n",
       "      <td>0.888485</td>\n",
       "      <td>2.679650</td>\n",
       "    </tr>\n",
       "    <tr>\n",
       "      <th>2</th>\n",
       "      <td>0.080808</td>\n",
       "      <td>0.829899</td>\n",
       "      <td>1.336970</td>\n",
       "      <td>2.968490</td>\n",
       "    </tr>\n",
       "    <tr>\n",
       "      <th>3</th>\n",
       "      <td>0.121212</td>\n",
       "      <td>1.524848</td>\n",
       "      <td>1.785455</td>\n",
       "      <td>3.254065</td>\n",
       "    </tr>\n",
       "    <tr>\n",
       "      <th>4</th>\n",
       "      <td>0.161616</td>\n",
       "      <td>2.219798</td>\n",
       "      <td>2.233939</td>\n",
       "      <td>3.536375</td>\n",
       "    </tr>\n",
       "  </tbody>\n",
       "</table>\n",
       "</div>"
      ],
      "text/plain": [
       "         X1        X2        X3         Y\n",
       "0  0.000000  3.440000  0.440000  4.387545\n",
       "1  0.040404  0.134949  0.888485  2.679650\n",
       "2  0.080808  0.829899  1.336970  2.968490\n",
       "3  0.121212  1.524848  1.785455  3.254065\n",
       "4  0.161616  2.219798  2.233939  3.536375"
      ]
     },
     "execution_count": 3,
     "metadata": {},
     "output_type": "execute_result"
    }
   ],
   "source": [
    "df = pd.DataFrame(pd.read_csv('D3.csv'))\n",
    "dataset = df.values[:,:]\n",
    "\n",
    "y = dataset[:, 3]\n",
    "m = len(y)\n",
    "df.head()"
   ]
  },
  {
   "cell_type": "code",
   "execution_count": 4,
   "id": "9f98614a",
   "metadata": {},
   "outputs": [
    {
     "data": {
      "image/png": "[encoded data removed]",
      "text/plain": [
       "<Figure size 432x288 with 1 Axes>"
      ]
     },
     "metadata": {
      "needs_background": "light"
     },
     "output_type": "display_data"
    }
   ],
   "source": [
    "#Part 1, 2, 3\n",
    "theta = [0, 0, 0, 0]\n",
    "iterations = 2000;\n",
    "alpha = 0.1\n",
    "x = dataset[:,:]\n",
    "x1 = x[:,0].reshape(m, 1)\n",
    "x2 = x[:,1].reshape(m, 1)\n",
    "x3 = x[:,2].reshape(m, 1)\n",
    "x = np.hstack((np.ones((m, 1)), x1, x2, x3))\n",
    "\n",
    "theta, cost_history = gradient_descent(x, y, theta, alpha, iterations)\n",
    "\n",
    "plt.plot(range(1, iterations+1), cost_history, color='blue')\n",
    "plt.grid()\n",
    "plt.xlabel('Number of iterations')\n",
    "plt.ylabel('Cost')\n",
    "plt.title('gradient descent')\n",
    "plt.show()"
   ]
  },
  {
   "cell_type": "code",
   "execution_count": 5,
   "id": "494fb410",
   "metadata": {},
   "outputs": [
    {
     "name": "stdout",
     "output_type": "stream",
     "text": [
      "Predicted value = 3.5774093686567574\n"
     ]
    }
   ],
   "source": [
    "#Part 4 Prediction of y with x = [1, 1, 1] \n",
    "x1 = 1\n",
    "x2 = 1\n",
    "x3 = 1\n",
    "x = np.array([1, x1, x2, x3])\n",
    "\n",
    "y = x[0]*theta[0]+x[1]*theta[1]+x[2]*theta[2]+x[3]*theta[3]\n",
    "print('Predicted value =',y)"
   ]
  },
  {
   "cell_type": "code",
   "execution_count": 6,
   "id": "5f837b11",
   "metadata": {},
   "outputs": [
    {
     "name": "stdout",
     "output_type": "stream",
     "text": [
      "Predicted value = 0.24432117148325494\n"
     ]
    }
   ],
   "source": [
    "#Part 4 Prediction of y with x = [2, 0, 4] \n",
    "x1 = 2\n",
    "x2 = 0\n",
    "x3 = 4\n",
    "x = np.array([1, x1, x2, x3])\n",
    "\n",
    "y = x[0]*theta[0]+x[1]*theta[1]+x[2]*theta[2]+x[3]*theta[3]\n",
    "print('Predicted value =',y)"
   ]
  },
  {
   "cell_type": "code",
   "execution_count": 7,
   "id": "ab15b1fe",
   "metadata": {},
   "outputs": [
    {
     "name": "stdout",
     "output_type": "stream",
     "text": [
      "Predicted value = 0.10253417186972869\n"
     ]
    }
   ],
   "source": [
    "#Part 4 Prediction of y with x = [3, 2, 1] \n",
    "x1 = 3\n",
    "x2 = 2\n",
    "x3 = 1\n",
    "x = np.array([1, x1, x2, x3])\n",
    "\n",
    "y = x[0]*theta[0]+x[1]*theta[1]+x[2]*theta[2]+x[3]*theta[3]\n",
    "print('Predicted value =',y)"
   ]
  }
 ],
 "metadata": {
  "kernelspec": {
   "display_name": "Python 3 (ipykernel)",
   "language": "python",
   "name": "python3"
  },
  "language_info": {
   "codemirror_mode": {
    "name": "ipython",
    "version": 3
   },
   "file_extension": ".py",
   "mimetype": "text/x-python",
   "name": "python",
   "nbconvert_exporter": "python",
   "pygments_lexer": "ipython3",
   "version": "3.9.7"
  }
 },
 "nbformat": 4,
 "nbformat_minor": 5
}
