{
 "cells": [
  {
   "cell_type": "code",
   "execution_count": 1,
   "id": "91745aea",
   "metadata": {
    "scrolled": false
   },
   "outputs": [],
   "source": [
    "#Problem 3\n",
    "import numpy as np\n",
    "import pandas as pd\n",
    "import matplotlib.pyplot as plt\n",
    "import warnings\n",
    "import seaborn as sns\n",
    "\n",
    "from matplotlib.colors import ListedColormap\n",
    "from sklearn.model_selection import train_test_split\n",
    "from sklearn.preprocessing import MinMaxScaler, StandardScaler\n",
    "from sklearn.model_selection import KFold\n",
    "from sklearn.model_selection import cross_val_score\n",
    "from sklearn.linear_model import LogisticRegression\n",
    "from sklearn.metrics import confusion_matrix\n",
    "from sklearn.metrics import classification_report\n",
    "from sklearn.datasets import load_breast_cancer\n",
    "from sklearn.decomposition import PCA\n",
    "from sklearn.naive_bayes import GaussianNB\n",
    "from sklearn import metrics\n",
    "from sklearn.svm import SVR\n",
    "warnings.filterwarnings('ignore')"
   ]
  },
  {
   "cell_type": "code",
   "execution_count": 2,
   "id": "dfdc8f5c",
   "metadata": {},
   "outputs": [],
   "source": [
    "def binary_map(x):\n",
    "    return x.map({'yes':1, \"no\": 0})"
   ]
  },
  {
   "cell_type": "code",
   "execution_count": 3,
   "id": "2dbecc4d",
   "metadata": {},
   "outputs": [
    {
     "data": {
      "text/html": [
       "<div>\n",
       "<style scoped>\n",
       "    .dataframe tbody tr th:only-of-type {\n",
       "        vertical-align: middle;\n",
       "    }\n",
       "\n",
       "    .dataframe tbody tr th {\n",
       "        vertical-align: top;\n",
       "    }\n",
       "\n",
       "    .dataframe thead th {\n",
       "        text-align: right;\n",
       "    }\n",
       "</style>\n",
       "<table border=\"1\" class=\"dataframe\">\n",
       "  <thead>\n",
       "    <tr style=\"text-align: right;\">\n",
       "      <th></th>\n",
       "      <th>price</th>\n",
       "      <th>area</th>\n",
       "      <th>bedrooms</th>\n",
       "      <th>bathrooms</th>\n",
       "      <th>stories</th>\n",
       "      <th>mainroad</th>\n",
       "      <th>guestroom</th>\n",
       "      <th>basement</th>\n",
       "      <th>hotwaterheating</th>\n",
       "      <th>airconditioning</th>\n",
       "      <th>parking</th>\n",
       "      <th>prefarea</th>\n",
       "    </tr>\n",
       "  </thead>\n",
       "  <tbody>\n",
       "    <tr>\n",
       "      <th>0</th>\n",
       "      <td>13300000</td>\n",
       "      <td>7420</td>\n",
       "      <td>4</td>\n",
       "      <td>2</td>\n",
       "      <td>3</td>\n",
       "      <td>1</td>\n",
       "      <td>0</td>\n",
       "      <td>0</td>\n",
       "      <td>0</td>\n",
       "      <td>1</td>\n",
       "      <td>2</td>\n",
       "      <td>1</td>\n",
       "    </tr>\n",
       "    <tr>\n",
       "      <th>1</th>\n",
       "      <td>12250000</td>\n",
       "      <td>8960</td>\n",
       "      <td>4</td>\n",
       "      <td>4</td>\n",
       "      <td>4</td>\n",
       "      <td>1</td>\n",
       "      <td>0</td>\n",
       "      <td>0</td>\n",
       "      <td>0</td>\n",
       "      <td>1</td>\n",
       "      <td>3</td>\n",
       "      <td>0</td>\n",
       "    </tr>\n",
       "    <tr>\n",
       "      <th>2</th>\n",
       "      <td>12250000</td>\n",
       "      <td>9960</td>\n",
       "      <td>3</td>\n",
       "      <td>2</td>\n",
       "      <td>2</td>\n",
       "      <td>1</td>\n",
       "      <td>0</td>\n",
       "      <td>1</td>\n",
       "      <td>0</td>\n",
       "      <td>0</td>\n",
       "      <td>2</td>\n",
       "      <td>1</td>\n",
       "    </tr>\n",
       "    <tr>\n",
       "      <th>3</th>\n",
       "      <td>12215000</td>\n",
       "      <td>7500</td>\n",
       "      <td>4</td>\n",
       "      <td>2</td>\n",
       "      <td>2</td>\n",
       "      <td>1</td>\n",
       "      <td>0</td>\n",
       "      <td>1</td>\n",
       "      <td>0</td>\n",
       "      <td>1</td>\n",
       "      <td>3</td>\n",
       "      <td>1</td>\n",
       "    </tr>\n",
       "    <tr>\n",
       "      <th>4</th>\n",
       "      <td>11410000</td>\n",
       "      <td>7420</td>\n",
       "      <td>4</td>\n",
       "      <td>1</td>\n",
       "      <td>2</td>\n",
       "      <td>1</td>\n",
       "      <td>1</td>\n",
       "      <td>1</td>\n",
       "      <td>0</td>\n",
       "      <td>1</td>\n",
       "      <td>2</td>\n",
       "      <td>0</td>\n",
       "    </tr>\n",
       "  </tbody>\n",
       "</table>\n",
       "</div>"
      ],
      "text/plain": [
       "      price  area  bedrooms  bathrooms  stories  mainroad  guestroom  \\\n",
       "0  13300000  7420         4          2        3         1          0   \n",
       "1  12250000  8960         4          4        4         1          0   \n",
       "2  12250000  9960         3          2        2         1          0   \n",
       "3  12215000  7500         4          2        2         1          0   \n",
       "4  11410000  7420         4          1        2         1          1   \n",
       "\n",
       "   basement  hotwaterheating  airconditioning  parking  prefarea  \n",
       "0         0                0                1        2         1  \n",
       "1         0                0                1        3         0  \n",
       "2         1                0                0        2         1  \n",
       "3         1                0                1        3         1  \n",
       "4         1                0                1        2         0  "
      ]
     },
     "execution_count": 3,
     "metadata": {},
     "output_type": "execute_result"
    }
   ],
   "source": [
    "df = pd.DataFrame(pd.read_csv('Housing.csv'))\n",
    "varlist = ['mainroad','guestroom','basement','hotwaterheating','airconditioning','prefarea']\n",
    "df[varlist] = df[varlist].apply(binary_map)\n",
    "del df['furnishingstatus']\n",
    "df.head()"
   ]
  },
  {
   "cell_type": "code",
   "execution_count": 4,
   "id": "9688bf6a",
   "metadata": {},
   "outputs": [],
   "source": [
    "scaler = MinMaxScaler()\n",
    "df = pd.DataFrame(scaler.fit_transform(df))\n",
    "y = df.pop(0)\n",
    "x = df"
   ]
  },
  {
   "cell_type": "code",
   "execution_count": 5,
   "id": "fef8bebb",
   "metadata": {
    "scrolled": true
   },
   "outputs": [
    {
     "name": "stdout",
     "output_type": "stream",
     "text": [
      "RBF Error = 0.01 Linear Error = 0.01 Polynomial Error = 0.01\n"
     ]
    }
   ],
   "source": [
    "#Part 1\n",
    "x_train, x_test, y_train, y_test = train_test_split(x,y, train_size = .8, test_size = .2)\n",
    "\n",
    "cvr_rbf = SVR(kernel='rbf',C=1,gamma = .1).fit(x_train,y_train)\n",
    "cvr_lin = SVR(kernel='linear',C=1).fit(x_train,y_train)\n",
    "cvr_poly = SVR(kernel='poly',C=1,degree = 2).fit(x_train,y_train)\n",
    "\n",
    "rbf = cvr_rbf.predict(x_test)\n",
    "lin = cvr_lin.predict(x_test)\n",
    "poly = cvr_poly.predict(x_test)\n",
    "\n",
    "rbf_error = metrics.mean_squared_error(y_test, rbf)\n",
    "lin_error = metrics.mean_squared_error(y_test, lin)\n",
    "poly_error = metrics.mean_squared_error(y_test, poly)\n",
    "\n",
    "print('RBF Error =', round(rbf_error,2),'Linear Error =', round(lin_error,2),'Polynomial Error =', round(poly_error,2))"
   ]
  },
  {
   "cell_type": "code",
   "execution_count": 6,
   "id": "186c82ee",
   "metadata": {
    "scrolled": true
   },
   "outputs": [
    {
     "data": {
      "image/png": "[encoded data removed]",
      "text/plain": [
       "<Figure size 432x288 with 1 Axes>"
      ]
     },
     "metadata": {
      "needs_background": "light"
     },
     "output_type": "display_data"
    },
    {
     "data": {
      "text/plain": [
       "<Figure size 144x144 with 0 Axes>"
      ]
     },
     "metadata": {},
     "output_type": "display_data"
    },
    {
     "name": "stdout",
     "output_type": "stream",
     "text": [
      "Optimal K = 11\n",
      "Training MSE =  0.01 Test MSE  = 0.01\n"
     ]
    }
   ],
   "source": [
    "#Part 3 Linear Model SVR\n",
    "K = range(1,12)\n",
    "accuracy = []\n",
    "recall = []\n",
    "precision = []\n",
    "K_current = []\n",
    "test_MSE = []\n",
    "train_MSE = []\n",
    "\n",
    "for k in K:\n",
    "    pca = PCA(n_components = k)\n",
    "    principalComponents = pca.fit_transform(x)\n",
    "    principalDf = pd.DataFrame(data = principalComponents)\n",
    "\n",
    "    x_train, x_test, y_train, y_test = train_test_split(principalDf,y, train_size = .8, test_size = .2)\n",
    "\n",
    "    clf = SVR(kernel='linear',C=1).fit(x_train,y_train)\n",
    "    \n",
    "    test_predicted = clf.predict(x_test)\n",
    "    train_predicted = clf.predict(x_train)\n",
    "    \n",
    "    K_current.append(k)\n",
    "    train_MSE.append(metrics.mean_squared_error(y_train, train_predicted))\n",
    "    test_MSE.append(metrics.mean_squared_error(y_test, test_predicted))\n",
    "    \n",
    "plt.plot(K_current, train_MSE, label=\"Training\")\n",
    "plt.plot(K_current, test_MSE, label=\"Test\")\n",
    "plt.title('Linear SVR Accuracy')\n",
    "plt.xlabel('K')\n",
    "plt.ylabel('Mean Squared Error')\n",
    "plt.legend()\n",
    "plt.grid()\n",
    "plt.figure(figsize=(2, 2))\n",
    "plt.show()\n",
    "\n",
    "max_K = test_MSE.index(min(test_MSE))\n",
    "print('Optimal K =', max_K+1)\n",
    "print('Training MSE = ', round(train_MSE[max_K],2), 'Test MSE  =', round(test_MSE[max_K],2))"
   ]
  },
  {
   "cell_type": "code",
   "execution_count": 7,
   "id": "bfa3ac9c",
   "metadata": {},
   "outputs": [
    {
     "data": {
      "image/png": "[encoded data removed]",
      "text/plain": [
       "<Figure size 432x288 with 1 Axes>"
      ]
     },
     "metadata": {
      "needs_background": "light"
     },
     "output_type": "display_data"
    },
    {
     "data": {
      "text/plain": [
       "<Figure size 144x144 with 0 Axes>"
      ]
     },
     "metadata": {},
     "output_type": "display_data"
    },
    {
     "name": "stdout",
     "output_type": "stream",
     "text": [
      "Optimal K = 9\n",
      "Training MSE =  0.01 Test MSE  = 0.01\n"
     ]
    }
   ],
   "source": [
    "#Part 4 Polynomial Model SVR\n",
    "K = range(1,12)\n",
    "accuracy = []\n",
    "recall = []\n",
    "precision = []\n",
    "K_current = []\n",
    "test_MSE = []\n",
    "train_MSE = []\n",
    "\n",
    "for k in K:\n",
    "    pca = PCA(n_components = k)\n",
    "    principalComponents = pca.fit_transform(x)\n",
    "    principalDf = pd.DataFrame(data = principalComponents)\n",
    "\n",
    "    x_train, x_test, y_train, y_test = train_test_split(principalDf,y, train_size = .8, test_size = .2)\n",
    "\n",
    "    clf = SVR(kernel='poly',C=1,degree = 2).fit(x_train,y_train)\n",
    "    \n",
    "    test_predicted = clf.predict(x_test)\n",
    "    train_predicted = clf.predict(x_train)\n",
    "    \n",
    "    K_current.append(k)\n",
    "    train_MSE.append(metrics.mean_squared_error(y_train, train_predicted))\n",
    "    test_MSE.append(metrics.mean_squared_error(y_test, test_predicted))\n",
    "    \n",
    "plt.plot(K_current, train_MSE, label=\"Training\")\n",
    "plt.plot(K_current, test_MSE, label=\"Test\")\n",
    "plt.title('Polynomial SVR Accuracy')\n",
    "plt.xlabel('K')\n",
    "plt.ylabel('Mean Squared Error')\n",
    "plt.legend()\n",
    "plt.grid()\n",
    "plt.figure(figsize=(2, 2))\n",
    "plt.show()\n",
    "\n",
    "max_K = test_MSE.index(min(test_MSE))\n",
    "print('Optimal K =', max_K+1)\n",
    "print('Training MSE = ', round(train_MSE[max_K],2), 'Test MSE  =', round(test_MSE[max_K],2))"
   ]
  },
  {
   "cell_type": "code",
   "execution_count": 8,
   "id": "a075fad5",
   "metadata": {},
   "outputs": [
    {
     "data": {
      "image/png": "[encoded data removed]",
      "text/plain": [
       "<Figure size 432x288 with 1 Axes>"
      ]
     },
     "metadata": {
      "needs_background": "light"
     },
     "output_type": "display_data"
    },
    {
     "data": {
      "text/plain": [
       "<Figure size 144x144 with 0 Axes>"
      ]
     },
     "metadata": {},
     "output_type": "display_data"
    },
    {
     "name": "stdout",
     "output_type": "stream",
     "text": [
      "Optimal K = 11\n",
      "Training MSE =  0.01 Test MSE  = 0.01\n"
     ]
    }
   ],
   "source": [
    "#Part 4 RBF Model SVR\n",
    "K = range(1,12)\n",
    "accuracy = []\n",
    "recall = []\n",
    "precision = []\n",
    "K_current = []\n",
    "test_MSE = []\n",
    "train_MSE = []\n",
    "\n",
    "for k in K:\n",
    "    pca = PCA(n_components = k)\n",
    "    principalComponents = pca.fit_transform(x)\n",
    "    principalDf = pd.DataFrame(data = principalComponents)\n",
    "\n",
    "    x_train, x_test, y_train, y_test = train_test_split(principalDf,y, train_size = .8, test_size = .2)\n",
    "\n",
    "    clf = SVR(kernel='rbf',C=1,gamma = .1).fit(x_train,y_train)\n",
    "    \n",
    "    test_predicted = clf.predict(x_test)\n",
    "    train_predicted = clf.predict(x_train)\n",
    "    \n",
    "    K_current.append(k)\n",
    "    train_MSE.append(metrics.mean_squared_error(y_train, train_predicted))\n",
    "    test_MSE.append(metrics.mean_squared_error(y_test, test_predicted))\n",
    "    \n",
    "plt.plot(K_current, train_MSE, label=\"Training\")\n",
    "plt.plot(K_current, test_MSE, label=\"Test\")\n",
    "plt.title('RBF SVR Accuracy')\n",
    "plt.xlabel('K')\n",
    "plt.ylabel('Mean Squared Error')\n",
    "plt.legend()\n",
    "plt.grid()\n",
    "plt.figure(figsize=(2, 2))\n",
    "plt.show()\n",
    "\n",
    "max_K = test_MSE.index(min(test_MSE))\n",
    "print('Optimal K =', max_K+1)\n",
    "print('Training MSE = ', round(train_MSE[max_K],2), 'Test MSE  =', round(test_MSE[max_K],2))"
   ]
  },
  {
   "cell_type": "code",
   "execution_count": 9,
   "id": "b3be558d",
   "metadata": {},
   "outputs": [
    {
     "data": {
      "image/png": "[encoded data removed]",
      "text/plain": [
       "<Figure size 432x288 with 1 Axes>"
      ]
     },
     "metadata": {
      "needs_background": "light"
     },
     "output_type": "display_data"
    },
    {
     "data": {
      "text/plain": [
       "<Figure size 144x144 with 0 Axes>"
      ]
     },
     "metadata": {},
     "output_type": "display_data"
    },
    {
     "name": "stdout",
     "output_type": "stream",
     "text": [
      "Optimal K = 8\n",
      "Training MSE =  12.15 Test MSE  = 7.75\n"
     ]
    }
   ],
   "source": [
    "#Part 4 Sigmoid Model SVR, Least test MSE value for K\n",
    "K = range(1,12)\n",
    "accuracy = []\n",
    "recall = []\n",
    "precision = []\n",
    "K_current = []\n",
    "test_MSE = []\n",
    "train_MSE = []\n",
    "\n",
    "for k in K:\n",
    "    pca = PCA(n_components = k)\n",
    "    principalComponents = pca.fit_transform(x)\n",
    "    principalDf = pd.DataFrame(data = principalComponents)\n",
    "\n",
    "    x_train, x_test, y_train, y_test = train_test_split(principalDf,y, train_size = .8, test_size = .2)\n",
    "\n",
    "    clf = SVR(kernel='sigmoid',C=1).fit(x_train,y_train)\n",
    "    \n",
    "    test_predicted = clf.predict(x_test)\n",
    "    train_predicted = clf.predict(x_train)\n",
    "    \n",
    "    K_current.append(k)\n",
    "    train_MSE.append(metrics.mean_squared_error(y_train, train_predicted))\n",
    "    test_MSE.append(metrics.mean_squared_error(y_test, test_predicted))\n",
    "    \n",
    "plt.plot(K_current, train_MSE, label=\"Training\")\n",
    "plt.plot(K_current, test_MSE, label=\"Test\")\n",
    "plt.title('Sigmoid SVR Accuracy')\n",
    "plt.xlabel('K')\n",
    "plt.ylabel('Mean Squared Error')\n",
    "plt.legend()\n",
    "plt.grid()\n",
    "plt.figure(figsize=(2, 2))\n",
    "plt.show()\n",
    "\n",
    "max_K = test_MSE.index(min(test_MSE))\n",
    "print('Optimal K =', max_K+1)\n",
    "print('Training MSE = ', round(train_MSE[max_K],2), 'Test MSE  =', round(test_MSE[max_K],2))"
   ]
  }
 ],
 "metadata": {
  "kernelspec": {
   "display_name": "Python 3 (ipykernel)",
   "language": "python",
   "name": "python3"
  },
  "language_info": {
   "codemirror_mode": {
    "name": "ipython",
    "version": 3
   },
   "file_extension": ".py",
   "mimetype": "text/x-python",
   "name": "python",
   "nbconvert_exporter": "python",
   "pygments_lexer": "ipython3",
   "version": "3.9.7"
  }
 },
 "nbformat": 4,
 "nbformat_minor": 5
}
