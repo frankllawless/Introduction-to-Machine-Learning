{
 "cells": [
  {
   "cell_type": "code",
   "execution_count": 1,
   "id": "91745aea",
   "metadata": {
    "scrolled": false
   },
   "outputs": [],
   "source": [
    "import numpy as np\n",
    "import pandas as pd\n",
    "import matplotlib.pyplot as plt\n",
    "import warnings\n",
    "\n",
    "from sklearn.model_selection import train_test_split\n",
    "from sklearn.preprocessing import MinMaxScaler, StandardScaler\n",
    "\n",
    "warnings.filterwarnings('ignore')"
   ]
  },
  {
   "cell_type": "code",
   "execution_count": 2,
   "id": "3ee7a504",
   "metadata": {},
   "outputs": [],
   "source": [
    "def cost(x, y, theta):\n",
    "    h = x.dot(theta)\n",
    "    E = np.subtract(h, y)\n",
    "    sqrE = np.square(E)\n",
    "    J = 1/(2*m)*np.sum(sqrE)\n",
    "    \n",
    "    return J\n",
    "\n",
    "def gradient_descent(x, y, test_x, test_y, theta, alpha, iterations):\n",
    "    cost_history = np.zeros(iterations)\n",
    "    validation_history = np.zeros(iterations)\n",
    "    \n",
    "    for i in range(iterations):\n",
    "        h = x.dot(theta)\n",
    "        e = np.subtract(h, y)\n",
    "        sum_delta = (alpha/m)*x.transpose().dot(e);\n",
    "        theta = theta - sum_delta;\n",
    "        cost_history[i] = cost(x, y, theta)\n",
    "        validation_history[i] = cost(test_x, test_y, theta)\n",
    "    return theta, cost_history, validation_history"
   ]
  },
  {
   "cell_type": "code",
   "execution_count": 3,
   "id": "5ca57670",
   "metadata": {},
   "outputs": [],
   "source": [
    "def binary_map(x):\n",
    "    return x.map({'yes':1, \"no\": 0})\n",
    "\n",
    "def furnished_map(x):\n",
    "    return x.map({'furnished':2,'semi-furnished':1, \"unfurnished\": 0})"
   ]
  },
  {
   "cell_type": "code",
   "execution_count": 4,
   "id": "a5923d93",
   "metadata": {},
   "outputs": [
    {
     "data": {
      "text/html": [
       "<div>\n",
       "<style scoped>\n",
       "    .dataframe tbody tr th:only-of-type {\n",
       "        vertical-align: middle;\n",
       "    }\n",
       "\n",
       "    .dataframe tbody tr th {\n",
       "        vertical-align: top;\n",
       "    }\n",
       "\n",
       "    .dataframe thead th {\n",
       "        text-align: right;\n",
       "    }\n",
       "</style>\n",
       "<table border=\"1\" class=\"dataframe\">\n",
       "  <thead>\n",
       "    <tr style=\"text-align: right;\">\n",
       "      <th></th>\n",
       "      <th>price</th>\n",
       "      <th>area</th>\n",
       "      <th>bedrooms</th>\n",
       "      <th>bathrooms</th>\n",
       "      <th>stories</th>\n",
       "      <th>mainroad</th>\n",
       "      <th>guestroom</th>\n",
       "      <th>basement</th>\n",
       "      <th>hotwaterheating</th>\n",
       "      <th>airconditioning</th>\n",
       "      <th>parking</th>\n",
       "      <th>prefarea</th>\n",
       "      <th>furnishingstatus</th>\n",
       "    </tr>\n",
       "  </thead>\n",
       "  <tbody>\n",
       "    <tr>\n",
       "      <th>0</th>\n",
       "      <td>13300000</td>\n",
       "      <td>7420</td>\n",
       "      <td>4</td>\n",
       "      <td>2</td>\n",
       "      <td>3</td>\n",
       "      <td>1</td>\n",
       "      <td>0</td>\n",
       "      <td>0</td>\n",
       "      <td>0</td>\n",
       "      <td>1</td>\n",
       "      <td>2</td>\n",
       "      <td>1</td>\n",
       "      <td>2</td>\n",
       "    </tr>\n",
       "    <tr>\n",
       "      <th>1</th>\n",
       "      <td>12250000</td>\n",
       "      <td>8960</td>\n",
       "      <td>4</td>\n",
       "      <td>4</td>\n",
       "      <td>4</td>\n",
       "      <td>1</td>\n",
       "      <td>0</td>\n",
       "      <td>0</td>\n",
       "      <td>0</td>\n",
       "      <td>1</td>\n",
       "      <td>3</td>\n",
       "      <td>0</td>\n",
       "      <td>2</td>\n",
       "    </tr>\n",
       "    <tr>\n",
       "      <th>2</th>\n",
       "      <td>12250000</td>\n",
       "      <td>9960</td>\n",
       "      <td>3</td>\n",
       "      <td>2</td>\n",
       "      <td>2</td>\n",
       "      <td>1</td>\n",
       "      <td>0</td>\n",
       "      <td>1</td>\n",
       "      <td>0</td>\n",
       "      <td>0</td>\n",
       "      <td>2</td>\n",
       "      <td>1</td>\n",
       "      <td>1</td>\n",
       "    </tr>\n",
       "    <tr>\n",
       "      <th>3</th>\n",
       "      <td>12215000</td>\n",
       "      <td>7500</td>\n",
       "      <td>4</td>\n",
       "      <td>2</td>\n",
       "      <td>2</td>\n",
       "      <td>1</td>\n",
       "      <td>0</td>\n",
       "      <td>1</td>\n",
       "      <td>0</td>\n",
       "      <td>1</td>\n",
       "      <td>3</td>\n",
       "      <td>1</td>\n",
       "      <td>2</td>\n",
       "    </tr>\n",
       "    <tr>\n",
       "      <th>4</th>\n",
       "      <td>11410000</td>\n",
       "      <td>7420</td>\n",
       "      <td>4</td>\n",
       "      <td>1</td>\n",
       "      <td>2</td>\n",
       "      <td>1</td>\n",
       "      <td>1</td>\n",
       "      <td>1</td>\n",
       "      <td>0</td>\n",
       "      <td>1</td>\n",
       "      <td>2</td>\n",
       "      <td>0</td>\n",
       "      <td>2</td>\n",
       "    </tr>\n",
       "  </tbody>\n",
       "</table>\n",
       "</div>"
      ],
      "text/plain": [
       "      price  area  bedrooms  bathrooms  stories  mainroad  guestroom  \\\n",
       "0  13300000  7420         4          2        3         1          0   \n",
       "1  12250000  8960         4          4        4         1          0   \n",
       "2  12250000  9960         3          2        2         1          0   \n",
       "3  12215000  7500         4          2        2         1          0   \n",
       "4  11410000  7420         4          1        2         1          1   \n",
       "\n",
       "   basement  hotwaterheating  airconditioning  parking  prefarea  \\\n",
       "0         0                0                1        2         1   \n",
       "1         0                0                1        3         0   \n",
       "2         1                0                0        2         1   \n",
       "3         1                0                1        3         1   \n",
       "4         1                0                1        2         0   \n",
       "\n",
       "   furnishingstatus  \n",
       "0                 2  \n",
       "1                 2  \n",
       "2                 1  \n",
       "3                 2  \n",
       "4                 2  "
      ]
     },
     "execution_count": 4,
     "metadata": {},
     "output_type": "execute_result"
    }
   ],
   "source": [
    "df = pd.DataFrame(pd.read_csv('Housing.csv'))\n",
    "varlist = ['mainroad','guestroom','basement','hotwaterheating','airconditioning','prefarea']\n",
    "df[varlist] = df[varlist].apply(binary_map)\n",
    "varlist = ['furnishingstatus']\n",
    "df[varlist] = df[varlist].apply(furnished_map)\n",
    "df.head()"
   ]
  },
  {
   "cell_type": "code",
   "execution_count": 5,
   "id": "d0f53761",
   "metadata": {},
   "outputs": [],
   "source": [
    "df_train, df_test = train_test_split(df, train_size = .8, test_size = .2)"
   ]
  },
  {
   "cell_type": "code",
   "execution_count": 6,
   "id": "0c414968",
   "metadata": {},
   "outputs": [
    {
     "data": {
      "image/png": "[encoded data removed]",
      "text/plain": [
       "<Figure size 432x288 with 1 Axes>"
      ]
     },
     "metadata": {
      "needs_background": "light"
     },
     "output_type": "display_data"
    },
    {
     "name": "stdout",
     "output_type": "stream",
     "text": [
      "theta = [-0.0, 0.38, 0.1, 0.28, 0.23, 0.2]\n"
     ]
    }
   ],
   "source": [
    "#part a with Standardization\n",
    "varlist = ['price','area','bedrooms','bathrooms','stories','parking']\n",
    "df_Newtrain = df_train[varlist]\n",
    "df_Newtest = df_test[varlist]\n",
    "df_Newtrain.head()\n",
    "\n",
    "scaler = StandardScaler()\n",
    "df_Newtrain[varlist] = scaler.fit_transform(df_Newtrain[varlist])\n",
    "df_Newtest[varlist] = scaler.fit_transform(df_Newtest[varlist])\n",
    "\n",
    "y_Normtrain=df_Newtrain.pop('price')\n",
    "x_Normtrain = df_Newtrain.copy()\n",
    "y_Normtest = df_Newtest.pop('price')\n",
    "x_Normtest = df_Newtest.copy()\n",
    "x_Normtest.head()\n",
    "\n",
    "theta = [0, 0, 0, 0, 0, 0]\n",
    "iterations = 100;\n",
    "alpha = 0.01\n",
    "y = y_Normtrain.values\n",
    "x = x_Normtrain.values\n",
    "validation_x = x_Normtest.values\n",
    "validation_y = y_Normtest.values\n",
    "\n",
    "m = len(y)\n",
    "x1 = x[:,0].reshape(m, 1)\n",
    "x2 = x[:,1].reshape(m, 1)\n",
    "x3 = x[:,2].reshape(m, 1)\n",
    "x4 = x[:,3].reshape(m, 1)\n",
    "x5 = x[:,4].reshape(m, 1)\n",
    "\n",
    "x = np.hstack((np.ones((m, 1)), x1, x2, x3, x4, x5))\n",
    "m = len(validation_y)\n",
    "x1 = validation_x[:,0].reshape(m, 1)\n",
    "x2 = validation_x[:,1].reshape(m, 1)\n",
    "x3 = validation_x[:,2].reshape(m, 1)\n",
    "x4 = validation_x[:,3].reshape(m, 1)\n",
    "x5 = validation_x[:,4].reshape(m, 1)\n",
    "validation_x = np.hstack((np.ones((m, 1)), x1, x2, x3, x4, x5))\n",
    "\n",
    "theta, cost_history, validation_history = gradient_descent(x, y, validation_x, validation_y, theta, alpha, iterations)\n",
    "\n",
    "plt.plot(range(1, iterations+1), cost_history, color='blue',  label='train')\n",
    "plt.plot(range(1, iterations+1), validation_history, color='red', label='validation')\n",
    "plt.grid()\n",
    "plt.xlabel('Number of iterations')\n",
    "plt.ylabel('Cost')\n",
    "plt.legend()\n",
    "plt.title('gradient descent')\n",
    "plt.show()\n",
    "\n",
    "print('theta =', [round(item, 2) for item in theta])"
   ]
  },
  {
   "cell_type": "code",
   "execution_count": 7,
   "id": "b1790ebf",
   "metadata": {},
   "outputs": [
    {
     "data": {
      "image/png": "[encoded data removed]",
      "text/plain": [
       "<Figure size 432x288 with 1 Axes>"
      ]
     },
     "metadata": {
      "needs_background": "light"
     },
     "output_type": "display_data"
    },
    {
     "name": "stdout",
     "output_type": "stream",
     "text": [
      "theta = [0.17, 0.08, 0.09, 0.06, 0.09, 0.08]\n"
     ]
    }
   ],
   "source": [
    "#part a with Normalization\n",
    "varlist = ['price','area','bedrooms','bathrooms','stories','parking']\n",
    "df_Newtrain = df_train[varlist]\n",
    "df_Newtest = df_test[varlist]\n",
    "\n",
    "scaler = MinMaxScaler()\n",
    "df_Newtrain[varlist] = scaler.fit_transform(df_Newtrain[varlist])\n",
    "df_Newtest[varlist] = scaler.fit_transform(df_Newtest[varlist])\n",
    "\n",
    "y_Normtrain=df_Newtrain.pop('price')\n",
    "x_Normtrain = df_Newtrain.copy()\n",
    "y_Normtest = df_Newtest.pop('price')\n",
    "x_Normtest = df_Newtest.copy()\n",
    "x_Normtest.head()\n",
    "\n",
    "theta = [0, 0, 0, 0, 0, 0]\n",
    "iterations = 100;\n",
    "alpha = 0.01\n",
    "y = y_Normtrain.values\n",
    "x = x_Normtrain.values\n",
    "validation_x = x_Normtest.values\n",
    "validation_y = y_Normtest.values\n",
    "\n",
    "m = len(y)\n",
    "x1 = x[:,0].reshape(m, 1)\n",
    "x2 = x[:,1].reshape(m, 1)\n",
    "x3 = x[:,2].reshape(m, 1)\n",
    "x4 = x[:,3].reshape(m, 1)\n",
    "x5 = x[:,4].reshape(m, 1)\n",
    "\n",
    "x = np.hstack((np.ones((m, 1)), x1, x2, x3, x4, x5))\n",
    "m = len(validation_y)\n",
    "x1 = validation_x[:,0].reshape(m, 1)\n",
    "x2 = validation_x[:,1].reshape(m, 1)\n",
    "x3 = validation_x[:,2].reshape(m, 1)\n",
    "x4 = validation_x[:,3].reshape(m, 1)\n",
    "x5 = validation_x[:,4].reshape(m, 1)\n",
    "validation_x = np.hstack((np.ones((m, 1)), x1, x2, x3, x4, x5))\n",
    "\n",
    "theta, cost_history, validation_history = gradient_descent(x, y, validation_x, validation_y, theta, alpha, iterations)\n",
    "\n",
    "plt.plot(range(1, iterations+1), cost_history, color='blue',  label='train')\n",
    "plt.plot(range(1, iterations+1), validation_history, color='red', label='validation')\n",
    "plt.grid()\n",
    "plt.xlabel('Number of iterations')\n",
    "plt.ylabel('Cost')\n",
    "plt.legend()\n",
    "plt.title('gradient descent')\n",
    "plt.show()\n",
    "\n",
    "print('theta =', [round(item, 2) for item in theta])"
   ]
  },
  {
   "cell_type": "code",
   "execution_count": 8,
   "id": "2af03923",
   "metadata": {},
   "outputs": [],
   "source": [
    "#part b with Standardization\n",
    "varlist = ['price','area','bedrooms','bathrooms','stories','mainroad','guestroom','basement', 'hotwaterheating','airconditioning','parking','prefarea']\n",
    "df_Newtrain = df_train[varlist]\n",
    "df_Newtest = df_test[varlist]"
   ]
  },
  {
   "cell_type": "code",
   "execution_count": 9,
   "id": "b61b06fa",
   "metadata": {},
   "outputs": [],
   "source": [
    "scaler = StandardScaler()\n",
    "df_Newtrain[varlist] = scaler.fit_transform(df_Newtrain[varlist])\n",
    "df_Newtest[varlist] = scaler.fit_transform(df_Newtest[varlist])"
   ]
  },
  {
   "cell_type": "code",
   "execution_count": 10,
   "id": "d6c69d02",
   "metadata": {},
   "outputs": [
    {
     "data": {
      "image/png": "[encoded data removed]",
      "text/plain": [
       "<Figure size 432x288 with 1 Axes>"
      ]
     },
     "metadata": {
      "needs_background": "light"
     },
     "output_type": "display_data"
    },
    {
     "name": "stdout",
     "output_type": "stream",
     "text": [
      "theta = [-0.0, 0.27, 0.08, 0.26, 0.18, 0.11, 0.05, 0.09, 0.1, 0.23, 0.15, 0.16]\n"
     ]
    }
   ],
   "source": [
    "y_Normtrain=df_Newtrain.pop('price')\n",
    "x_Normtrain = df_Newtrain.copy()\n",
    "y_Normtest = df_Newtest.pop('price')\n",
    "x_Normtest = df_Newtest.copy()\n",
    "x_Normtest.head()\n",
    "\n",
    "theta = [0, 0, 0, 0, 0, 0, 0, 0, 0, 0, 0, 0]\n",
    "iterations = 100;\n",
    "alpha = 0.01\n",
    "y = y_Normtrain.values\n",
    "x = x_Normtrain.values\n",
    "validation_x = x_Normtest.values\n",
    "validation_y = y_Normtest.values\n",
    "\n",
    "m = len(y)\n",
    "x1 = x[:,0].reshape(m, 1)\n",
    "x2 = x[:,1].reshape(m, 1)\n",
    "x3 = x[:,2].reshape(m, 1)\n",
    "x4 = x[:,3].reshape(m, 1)\n",
    "x5 = x[:,4].reshape(m, 1)\n",
    "x6 = x[:,5].reshape(m, 1)\n",
    "x7 = x[:,6].reshape(m, 1)\n",
    "x8 = x[:,7].reshape(m, 1)\n",
    "x9 = x[:,8].reshape(m, 1)\n",
    "x10 = x[:,9].reshape(m, 1)\n",
    "x11 = x[:,10].reshape(m, 1)\n",
    "x = np.hstack((np.ones((m, 1)), x1, x2, x3, x4, x5,x6, x7, x8, x9, x10, x11))\n",
    "\n",
    "m = len(validation_y)\n",
    "x1 = validation_x[:,0].reshape(m, 1)\n",
    "x2 = validation_x[:,1].reshape(m, 1)\n",
    "x3 = validation_x[:,2].reshape(m, 1)\n",
    "x4 = validation_x[:,3].reshape(m, 1)\n",
    "x5 = validation_x[:,4].reshape(m, 1)\n",
    "x6 = validation_x[:,5].reshape(m, 1)\n",
    "x7 = validation_x[:,6].reshape(m, 1)\n",
    "x8 = validation_x[:,7].reshape(m, 1)\n",
    "x9 = validation_x[:,8].reshape(m, 1)\n",
    "x10 = validation_x[:,9].reshape(m, 1)\n",
    "x11 = validation_x[:,10].reshape(m, 1)\n",
    "\n",
    "validation_x = np.hstack((np.ones((m, 1)), x1, x2, x3, x4, x5,x6, x7, x8, x9, x10, x11))\n",
    "\n",
    "theta, cost_history, validation_history = gradient_descent(x, y, validation_x, validation_y, theta, alpha, iterations)\n",
    "\n",
    "plt.plot(range(1, iterations+1), cost_history, color='blue',  label='train')\n",
    "plt.plot(range(1, iterations+1), validation_history, color='red', label='validation')\n",
    "plt.grid()\n",
    "plt.xlabel('Number of iterations')\n",
    "plt.ylabel('Cost')\n",
    "plt.legend()\n",
    "plt.title('gradient descent')\n",
    "plt.show()\n",
    "\n",
    "print('theta =', [round(item, 2) for item in theta])"
   ]
  },
  {
   "cell_type": "code",
   "execution_count": 11,
   "id": "4ff8c1f0",
   "metadata": {},
   "outputs": [
    {
     "data": {
      "image/png": "[encoded data removed]",
      "text/plain": [
       "<Figure size 432x288 with 1 Axes>"
      ]
     },
     "metadata": {
      "needs_background": "light"
     },
     "output_type": "display_data"
    },
    {
     "name": "stdout",
     "output_type": "stream",
     "text": [
      "theta = [0.08, 0.05, 0.05, 0.05, 0.06, 0.08, 0.03, 0.03, 0.02, 0.08, 0.06, 0.05]\n"
     ]
    }
   ],
   "source": [
    "#part b with Normalization\n",
    "varlist = ['price','area','bedrooms','bathrooms','stories','mainroad','guestroom','basement', 'hotwaterheating','airconditioning','parking','prefarea']\n",
    "df_Newtrain = df_train[varlist]\n",
    "df_Newtest = df_test[varlist]\n",
    "\n",
    "scaler = MinMaxScaler()\n",
    "df_Newtrain[varlist] = scaler.fit_transform(df_Newtrain[varlist])\n",
    "df_Newtest[varlist] = scaler.fit_transform(df_Newtest[varlist])\n",
    "\n",
    "y_Normtrain=df_Newtrain.pop('price')\n",
    "x_Normtrain = df_Newtrain.copy()\n",
    "y_Normtest = df_Newtest.pop('price')\n",
    "x_Normtest = df_Newtest.copy()\n",
    "x_Normtest.head()\n",
    "\n",
    "theta = [0, 0, 0, 0, 0, 0, 0, 0, 0, 0, 0, 0]\n",
    "iterations = 100;\n",
    "alpha = 0.01\n",
    "y = y_Normtrain.values\n",
    "x = x_Normtrain.values\n",
    "validation_x = x_Normtest.values\n",
    "validation_y = y_Normtest.values\n",
    "\n",
    "m = len(y)\n",
    "x1 = x[:,0].reshape(m, 1)\n",
    "x2 = x[:,1].reshape(m, 1)\n",
    "x3 = x[:,2].reshape(m, 1)\n",
    "x4 = x[:,3].reshape(m, 1)\n",
    "x5 = x[:,4].reshape(m, 1)\n",
    "x6 = x[:,5].reshape(m, 1)\n",
    "x7 = x[:,6].reshape(m, 1)\n",
    "x8 = x[:,7].reshape(m, 1)\n",
    "x9 = x[:,8].reshape(m, 1)\n",
    "x10 = x[:,9].reshape(m, 1)\n",
    "x11 = x[:,10].reshape(m, 1)\n",
    "x = np.hstack((np.ones((m, 1)), x1, x2, x3, x4, x5,x6, x7, x8, x9, x10, x11))\n",
    "\n",
    "m = len(validation_y)\n",
    "x1 = validation_x[:,0].reshape(m, 1)\n",
    "x2 = validation_x[:,1].reshape(m, 1)\n",
    "x3 = validation_x[:,2].reshape(m, 1)\n",
    "x4 = validation_x[:,3].reshape(m, 1)\n",
    "x5 = validation_x[:,4].reshape(m, 1)\n",
    "x6 = validation_x[:,5].reshape(m, 1)\n",
    "x7 = validation_x[:,6].reshape(m, 1)\n",
    "x8 = validation_x[:,7].reshape(m, 1)\n",
    "x9 = validation_x[:,8].reshape(m, 1)\n",
    "x10 = validation_x[:,9].reshape(m, 1)\n",
    "x11 = validation_x[:,10].reshape(m, 1)\n",
    "\n",
    "validation_x = np.hstack((np.ones((m, 1)), x1, x2, x3, x4, x5,x6, x7, x8, x9, x10, x11))\n",
    "\n",
    "theta, cost_history, validation_history = gradient_descent(x, y, validation_x, validation_y, theta, alpha, iterations)\n",
    "\n",
    "plt.plot(range(1, iterations+1), cost_history, color='blue',  label='train')\n",
    "plt.plot(range(1, iterations+1), validation_history, color='red', label='validation')\n",
    "plt.grid()\n",
    "plt.xlabel('Number of iterations')\n",
    "plt.ylabel('Cost')\n",
    "plt.legend()\n",
    "plt.title('gradient descent')\n",
    "plt.show()\n",
    "\n",
    "print('theta =', [round(item, 2) for item in theta])"
   ]
  }
 ],
 "metadata": {
  "kernelspec": {
   "display_name": "Python 3 (ipykernel)",
   "language": "python",
   "name": "python3"
  },
  "language_info": {
   "codemirror_mode": {
    "name": "ipython",
    "version": 3
   },
   "file_extension": ".py",
   "mimetype": "text/x-python",
   "name": "python",
   "nbconvert_exporter": "python",
   "pygments_lexer": "ipython3",
   "version": "3.9.7"
  }
 },
 "nbformat": 4,
 "nbformat_minor": 5
}
