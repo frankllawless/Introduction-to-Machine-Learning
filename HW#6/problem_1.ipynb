{
 "cells": [
  {
   "cell_type": "code",
   "execution_count": 1,
   "id": "7f7c241f",
   "metadata": {},
   "outputs": [],
   "source": [
    "import numpy as np\n",
    "import pandas as pd\n",
    "import matplotlib.pyplot as plt\n",
    "import warnings\n",
    "import seaborn as sns\n",
    "import torch\n",
    "import torch.nn as nn\n",
    "import torch.optim as optim\n",
    "import os\n",
    "import time\n",
    "from matplotlib import pyplot as plt\n",
    "from sklearn.preprocessing import MinMaxScaler, StandardScaler\n",
    "from sklearn.model_selection import train_test_split\n",
    "from collections import OrderedDict\n",
    "from sklearn import metrics\n",
    "from sklearn.metrics import confusion_matrix\n",
    "from sklearn.metrics import classification_report\n",
    "from torchvision import datasets\n",
    "from torchvision import transforms"
   ]
  },
  {
   "cell_type": "code",
   "execution_count": 2,
   "id": "86fdb8ae",
   "metadata": {},
   "outputs": [
    {
     "name": "stdout",
     "output_type": "stream",
     "text": [
      "Files already downloaded and verified\n",
      "Files already downloaded and verified\n"
     ]
    }
   ],
   "source": [
    "data_path ='../data-unversioned/p1ch7/'\n",
    "cifar10 = datasets.CIFAR10(data_path, train=True, download=True)\n",
    "cifar10_val = datasets.CIFAR10(data_path, train=False, download=True)"
   ]
  },
  {
   "cell_type": "code",
   "execution_count": 3,
   "id": "79b911ca",
   "metadata": {},
   "outputs": [],
   "source": [
    "cifar10 = datasets.CIFAR10(data_path, train=True, download=False,\n",
    "                                      transform=transforms.Compose([transforms.ToTensor(), transforms.Normalize((0.4915, .4823, .4468), (.2470, .2435, .2616))]))\n",
    "cifar10_val = datasets.CIFAR10(data_path, train=False, download=False,\n",
    "                                      transform=transforms.Compose([transforms.ToTensor(), transforms.Normalize((0.4915, .4823, .4468), (.2470, .2435, .2616))]))"
   ]
  },
  {
   "cell_type": "code",
   "execution_count": 4,
   "id": "7faf0aed",
   "metadata": {},
   "outputs": [
    {
     "name": "stdout",
     "output_type": "stream",
     "text": [
      "Epoch: 0, Loss: 1.438026\n",
      "Epoch: 20, Loss: 0.942381\n",
      "Epoch: 40, Loss: 0.368701\n",
      "Epoch: 60, Loss: 0.151234\n",
      "Epoch: 80, Loss: 0.052477\n",
      "Epoch: 100, Loss: 0.051391\n",
      "Epoch: 120, Loss: 0.030605\n",
      "Epoch: 140, Loss: 0.015928\n",
      "Epoch: 160, Loss: 0.021551\n",
      "Epoch: 180, Loss: 0.008813\n",
      "Epoch: 200, Loss: 0.010328\n",
      "Epoch: 220, Loss: 0.011969\n",
      "Epoch: 240, Loss: 0.012224\n",
      "Epoch: 260, Loss: 0.004367\n",
      "Epoch: 280, Loss: 0.004730\n",
      "Total Training Time: 4478.49\n"
     ]
    }
   ],
   "source": [
    "# Part 1a.\n",
    "train_loader = torch.utils.data.DataLoader(cifar10, batch_size=64, shuffle=True)\n",
    "\n",
    "n_out = 10\n",
    "model = nn.Sequential(nn.Linear(3072, 512,),\n",
    "                      nn.Tanh(),\n",
    "                      nn.Linear(512,n_out),\n",
    "                     nn.LogSoftmax(dim=1))\n",
    "\n",
    "learning_rate = 1e-2\n",
    "\n",
    "optimizer = optim.SGD(model.parameters(), lr=learning_rate)\n",
    "\n",
    "loss_fn = nn.NLLLoss()\n",
    "\n",
    "epoch_history = []\n",
    "loss_history = []\n",
    "time1 = time.time()\n",
    "n_epochs=300\n",
    "for epoch in range(n_epochs):\n",
    "    for imgs, label in train_loader:\n",
    "        batch_size = imgs.shape[0]\n",
    "        outputs = model(imgs.view(batch_size, -1))\n",
    "        loss = loss_fn(outputs, label)\n",
    "        \n",
    "        optimizer.zero_grad()\n",
    "        loss.backward()\n",
    "        optimizer.step()\n",
    "    \n",
    "    epoch_history.append(epoch)\n",
    "    loss_history.append(float(loss))\n",
    "    \n",
    "    if epoch % 20 == 0:\n",
    "        print(\"Epoch: %d, Loss: %f\" % (epoch, float(loss)))\n",
    "        \n",
    "stop_time = time.time()\n",
    "time_elapsed = stop_time - time1\n",
    "\n",
    "print(\"Total Training Time:\", round(time_elapsed,2))"
   ]
  },
  {
   "cell_type": "code",
   "execution_count": 8,
   "id": "220d825e",
   "metadata": {},
   "outputs": [
    {
     "name": "stdout",
     "output_type": "stream",
     "text": [
      "Validation Accuracy: 0.473\n"
     ]
    }
   ],
   "source": [
    "val_loader = torch.utils.data.DataLoader(cifar10_val, batch_size=64, shuffle=False)\n",
    "\n",
    "correct = 0\n",
    "total = 0\n",
    "\n",
    "with torch.no_grad():\n",
    "    for imgs, labels in val_loader:\n",
    "        batch_size = imgs.shape[0]\n",
    "        outputs = model(imgs.view(batch_size, -1))\n",
    "        _, predicted = torch.max(outputs, dim=1)\n",
    "        total += labels.shape[0]\n",
    "        correct += int((predicted==labels).sum())\n",
    "        \n",
    "print(\"Validation Accuracy:\", correct/total)"
   ]
  },
  {
   "cell_type": "code",
   "execution_count": 6,
   "id": "69f3c361",
   "metadata": {},
   "outputs": [
    {
     "data": {
      "image/png": "[encoded data removed]",
      "text/plain": [
       "<Figure size 640x480 with 1 Axes>"
      ]
     },
     "metadata": {},
     "output_type": "display_data"
    }
   ],
   "source": [
    "plt.plot(epoch_history, loss_history)\n",
    "plt.xlabel(\"Epochs\")\n",
    "plt.ylabel(\"Loss\")\n",
    "plt.title(\"Loss Vs. Epochs\")\n",
    "plt.show()"
   ]
  },
  {
   "cell_type": "code",
   "execution_count": 9,
   "id": "2d18c8eb",
   "metadata": {},
   "outputs": [
    {
     "name": "stdout",
     "output_type": "stream",
     "text": [
      "Epoch: 0, Loss: 1.667084\n",
      "Epoch: 20, Loss: 0.622919\n",
      "Epoch: 40, Loss: 0.313984\n",
      "Epoch: 60, Loss: 0.002900\n",
      "Epoch: 80, Loss: 0.002801\n",
      "Epoch: 100, Loss: 0.001091\n",
      "Epoch: 120, Loss: 0.000464\n",
      "Epoch: 140, Loss: 0.000453\n",
      "Epoch: 160, Loss: 0.000785\n",
      "Epoch: 180, Loss: 0.000402\n",
      "Epoch: 200, Loss: 0.000262\n",
      "Epoch: 220, Loss: 0.000155\n",
      "Epoch: 240, Loss: 0.000305\n",
      "Epoch: 260, Loss: 0.000416\n",
      "Epoch: 280, Loss: 0.000291\n",
      "Total Training Time: 6330.95\n"
     ]
    }
   ],
   "source": [
    "# Part 1b.\n",
    "train_loader = torch.utils.data.DataLoader(cifar10, batch_size=64, shuffle=True)\n",
    "\n",
    "n_out = 10\n",
    "model = nn.Sequential(nn.Linear(3072, 1024),\n",
    "                      nn.Tanh(),\n",
    "                      nn.Linear(1024, 512),\n",
    "                      nn.Tanh(),\n",
    "                      nn.Linear(512, 256,),\n",
    "                      nn.Tanh(),\n",
    "                      nn.Linear(256,n_out),\n",
    "                     nn.LogSoftmax(dim=1))\n",
    "\n",
    "learning_rate = 1e-2\n",
    "\n",
    "optimizer = optim.SGD(model.parameters(), lr=learning_rate)\n",
    "\n",
    "loss_fn = nn.NLLLoss()\n",
    "\n",
    "epoch_history = []\n",
    "loss_history = []\n",
    "time1 = time.time()\n",
    "n_epochs=300\n",
    "for epoch in range(n_epochs):\n",
    "    for imgs, label in train_loader:\n",
    "        batch_size = imgs.shape[0]\n",
    "        outputs = model(imgs.view(batch_size, -1))\n",
    "        loss = loss_fn(outputs, label)\n",
    "        \n",
    "        optimizer.zero_grad()\n",
    "        loss.backward()\n",
    "        optimizer.step()\n",
    "    \n",
    "    epoch_history.append(epoch)\n",
    "    loss_history.append(float(loss))\n",
    "    \n",
    "    if epoch % 20 == 0:\n",
    "        print(\"Epoch: %d, Loss: %f\" % (epoch, float(loss)))\n",
    "        \n",
    "stop_time = time.time()\n",
    "time_elapsed = stop_time - time1\n",
    "\n",
    "print(\"Total Training Time:\", round(time_elapsed,2))"
   ]
  },
  {
   "cell_type": "code",
   "execution_count": 10,
   "id": "77f04ca8",
   "metadata": {},
   "outputs": [
    {
     "name": "stdout",
     "output_type": "stream",
     "text": [
      "Validation Accuracy: 0.4748\n"
     ]
    }
   ],
   "source": [
    "val_loader = torch.utils.data.DataLoader(cifar10_val, batch_size=64, shuffle=False)\n",
    "\n",
    "correct = 0\n",
    "total = 0\n",
    "\n",
    "with torch.no_grad():\n",
    "    for imgs, labels in val_loader:\n",
    "        batch_size = imgs.shape[0]\n",
    "        outputs = model(imgs.view(batch_size, -1))\n",
    "        _, predicted = torch.max(outputs, dim=1)\n",
    "        total += labels.shape[0]\n",
    "        correct += int((predicted==labels).sum())\n",
    "        \n",
    "print(\"Validation Accuracy:\", correct/total)"
   ]
  },
  {
   "cell_type": "code",
   "execution_count": 11,
   "id": "0b7a351d",
   "metadata": {},
   "outputs": [
    {
     "data": {
      "image/png": "[encoded data removed]",
      "text/plain": [
       "<Figure size 640x480 with 1 Axes>"
      ]
     },
     "metadata": {},
     "output_type": "display_data"
    }
   ],
   "source": [
    "plt.plot(epoch_history, loss_history)\n",
    "plt.xlabel(\"Epochs\")\n",
    "plt.ylabel(\"Loss\")\n",
    "plt.title(\"Loss Vs. Epochs\")\n",
    "plt.show()"
   ]
  },
  {
   "cell_type": "code",
   "execution_count": null,
   "id": "e37b457c",
   "metadata": {},
   "outputs": [],
   "source": []
  }
 ],
 "metadata": {
  "kernelspec": {
   "display_name": "Python 3 (ipykernel)",
   "language": "python",
   "name": "python3"
  },
  "language_info": {
   "codemirror_mode": {
    "name": "ipython",
    "version": 3
   },
   "file_extension": ".py",
   "mimetype": "text/x-python",
   "name": "python",
   "nbconvert_exporter": "python",
   "pygments_lexer": "ipython3",
   "version": "3.9.13"
  }
 },
 "nbformat": 4,
 "nbformat_minor": 5
}
